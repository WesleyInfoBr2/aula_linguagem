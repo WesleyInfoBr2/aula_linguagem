{
 "cells": [
  {
   "cell_type": "markdown",
   "id": "9c031887-83ff-4747-a859-ed762b92af00",
   "metadata": {},
   "source": [
    "# Publicação usando Quarto\n",
    "\n",
    "Quarto se trata de um conjunto de ferramentas que permite a utilização combinada com deferentes linguagens (Python, R, Julia) e IDE (VS Studio, RStudio, Jupyter, editor de texto) para publicação dos notebooks (codificação, markdown e marcações Pandoc) para diversos formatos: HTML, PDF, Word, ePub, OpenOffice, Revealjs, PowerPoint, entre outros"
   ]
  },
  {
   "cell_type": "markdown",
   "id": "6bd3c8f1-0f4b-4a6a-9765-124beb765ead",
   "metadata": {},
   "source": [
    "\n",
    "Instalação: https://quarto.org/docs/get-started/ (por incluir ferramentas queu vão além da IDE ou da linguagem, exige instalação via executável)\n",
    "\n",
    "Após instalação, o Notebook tradicional pode ser adaptado para permitir a publicação. O ato de publicar, em uma linguagem como o Python envolve a renderização do código. Em Quarto, utilizaremos as células do tipo Raw para incluir as informações adicionais.\n",
    "\n",
    "Células Raw são células que são ignoradas pelos kernel e utilizadas somente no processo de renderização.\n",
    "\n",
    "No momento da renderização, utilizaremos o Terminal para execução de código quarto:\n",
    "- quarto render nome_arquivo.ipynb --to html (pdf, docx, epub, pptx)\n",
    "- quarto preview nome_arquivo.ipynb --to html (deve ser utilizado durante a construção do código, para visualização prévia)\n"
   ]
  },
  {
   "cell_type": "markdown",
   "id": "f7a162c6-9bc3-47b2-9331-4d74673b144c",
   "metadata": {},
   "source": [
    "## Dados de formato (célula Raw)\n",
    "\n",
    "Nesta parte do notebook incluimos informações úteis na renderização"
   ]
  },
  {
   "cell_type": "raw",
   "id": "ce2fe4b5-5987-449c-ad48-d8917aafde6f",
   "metadata": {},
   "source": [
    "---\n",
    "title: \"Material da aula 13\"\n",
    "author: \"Wesley Almeida\"\n",
    "date: \"13 de junho de 2023\"\n",
    "lang: pt\n",
    "format: \n",
    "  html:\n",
    "    code-tools: true\n",
    "    code-fold: true\n",
    "    default-image-extension: png\n",
    "    page-layout: full\n",
    "jupyter: python3\n",
    "---"
   ]
  },
  {
   "cell_type": "markdown",
   "id": "0a91d81e-f2df-493b-a8f4-a9e40ae14836",
   "metadata": {},
   "source": [
    "## Resultados da análise"
   ]
  },
  {
   "cell_type": "markdown",
   "id": "9518cc52-73b1-4007-9bfe-0f444e687ba4",
   "metadata": {},
   "source": [
    "### Projetos de investimento\n",
    "\n",
    "Importação dos dados do arquivo projetos.csv utilizando o pacote pandas. Apresentação dos dados na @tbl-projetos"
   ]
  },
  {
   "cell_type": "code",
   "execution_count": 9,
   "id": "6bc8380d-9e10-4315-82e8-e07e1da1591e",
   "metadata": {},
   "outputs": [
    {
     "data": {
      "text/html": [
       "<div>\n",
       "<style scoped>\n",
       "    .dataframe tbody tr th:only-of-type {\n",
       "        vertical-align: middle;\n",
       "    }\n",
       "\n",
       "    .dataframe tbody tr th {\n",
       "        vertical-align: top;\n",
       "    }\n",
       "\n",
       "    .dataframe thead th {\n",
       "        text-align: right;\n",
       "    }\n",
       "</style>\n",
       "<table border=\"1\" class=\"dataframe\">\n",
       "  <thead>\n",
       "    <tr style=\"text-align: right;\">\n",
       "      <th></th>\n",
       "      <th>mes</th>\n",
       "      <th>ano</th>\n",
       "      <th>Projeto1</th>\n",
       "      <th>Projeto2</th>\n",
       "      <th>Projeto3</th>\n",
       "      <th>Projeto4</th>\n",
       "      <th>Projeto5</th>\n",
       "    </tr>\n",
       "  </thead>\n",
       "  <tbody>\n",
       "    <tr>\n",
       "      <th>0</th>\n",
       "      <td>1</td>\n",
       "      <td>2021</td>\n",
       "      <td>35000</td>\n",
       "      <td>33000</td>\n",
       "      <td>65000</td>\n",
       "      <td>30000</td>\n",
       "      <td>27660</td>\n",
       "    </tr>\n",
       "    <tr>\n",
       "      <th>1</th>\n",
       "      <td>2</td>\n",
       "      <td>2021</td>\n",
       "      <td>32500</td>\n",
       "      <td>42600</td>\n",
       "      <td>53000</td>\n",
       "      <td>39000</td>\n",
       "      <td>24999</td>\n",
       "    </tr>\n",
       "    <tr>\n",
       "      <th>2</th>\n",
       "      <td>3</td>\n",
       "      <td>2021</td>\n",
       "      <td>26700</td>\n",
       "      <td>35800</td>\n",
       "      <td>48000</td>\n",
       "      <td>36000</td>\n",
       "      <td>27104</td>\n",
       "    </tr>\n",
       "    <tr>\n",
       "      <th>3</th>\n",
       "      <td>4</td>\n",
       "      <td>2021</td>\n",
       "      <td>24000</td>\n",
       "      <td>28700</td>\n",
       "      <td>58000</td>\n",
       "      <td>27000</td>\n",
       "      <td>27487</td>\n",
       "    </tr>\n",
       "    <tr>\n",
       "      <th>4</th>\n",
       "      <td>5</td>\n",
       "      <td>2021</td>\n",
       "      <td>19000</td>\n",
       "      <td>35200</td>\n",
       "      <td>49000</td>\n",
       "      <td>32000</td>\n",
       "      <td>30394</td>\n",
       "    </tr>\n",
       "  </tbody>\n",
       "</table>\n",
       "</div>"
      ],
      "text/plain": [
       "   mes   ano  Projeto1  Projeto2  Projeto3  Projeto4  Projeto5\n",
       "0    1  2021     35000     33000     65000     30000     27660\n",
       "1    2  2021     32500     42600     53000     39000     24999\n",
       "2    3  2021     26700     35800     48000     36000     27104\n",
       "3    4  2021     24000     28700     58000     27000     27487\n",
       "4    5  2021     19000     35200     49000     32000     30394"
      ]
     },
     "execution_count": 9,
     "metadata": {},
     "output_type": "execute_result"
    }
   ],
   "source": [
    "#| label: tbl-projetos\n",
    "#| echo: true\n",
    "#| tbl-cap: \"Dados das 5 alternativas de investimento\"\n",
    "\n",
    "import pandas as pd  \n",
    "\n",
    "arquivo = \"projetos.csv\" \n",
    "df = pd.read_csv(arquivo, sep=';') \n",
    "\n",
    "#apresentação das primeiras linhas para checar se a leitura ocorreu corretamente\n",
    "df.head()"
   ]
  },
  {
   "cell_type": "markdown",
   "id": "09749d87-5dfa-4ef8-911b-b555dc0f259e",
   "metadata": {},
   "source": [
    "Atualização da DataFrame, adicionando mais uma linha ao final com os dados referentes ao mês de dezembro de 2022. Depois apresente as últimas linhas da df para checar se ocorreu como deveria\n",
    "\n",
    "mes | ano | Projeto1 | Projeto2 | Projeto3 | Projeto4 | Projeto5\n",
    "--- | --- | -------- | -------- | -------- | -------- | --------\n",
    "12 | 2022 | 29376 | 40392 | 63648 | 29376 | 25704\n",
    "\n",
    "obs: a partir deste ponto, utilize a df atualizada, agora com 24 meses de dados"
   ]
  },
  {
   "cell_type": "code",
   "execution_count": 3,
   "id": "d6809dca-5a07-4ffe-abfb-5887058f02eb",
   "metadata": {},
   "outputs": [
    {
     "name": "stdout",
     "output_type": "stream",
     "text": [
      "    mes   ano  Projeto1  Projeto2  Projeto3  Projeto4  Projeto5\n",
      "19    8  2022     25375     33516     48452     29970     29878\n",
      "20    9  2022     23200     36980     65000     32000     25878\n",
      "21   10  2022     24206     32575     48020     30380     25588\n",
      "22   11  2022     27886     40629     69993     31108     32837\n",
      "0    12  2022     29376     40392     63648     29376     25704\n"
     ]
    },
    {
     "name": "stderr",
     "output_type": "stream",
     "text": [
      "C:\\Users\\wesley.almeida.GRUPOMARISTA\\AppData\\Local\\Temp\\ipykernel_7620\\1171443668.py:2: FutureWarning: The frame.append method is deprecated and will be removed from pandas in a future version. Use pandas.concat instead.\n",
      "  df = df.append(df1)\n"
     ]
    }
   ],
   "source": [
    "df1 = pd.DataFrame({'mes': [12], 'ano': [2022], 'Projeto1': [29376], 'Projeto2': [40392], 'Projeto3': [63648], 'Projeto4': [29376], 'Projeto5': [25704] })\n",
    "df = df.append(df1)\n",
    "print(df.tail())"
   ]
  },
  {
   "cell_type": "code",
   "execution_count": 16,
   "id": "0f8adec3-633e-4474-8781-8b77f650efc3",
   "metadata": {},
   "outputs": [
    {
     "data": {
      "text/html": [
       "<div>\n",
       "<style scoped>\n",
       "    .dataframe tbody tr th:only-of-type {\n",
       "        vertical-align: middle;\n",
       "    }\n",
       "\n",
       "    .dataframe tbody tr th {\n",
       "        vertical-align: top;\n",
       "    }\n",
       "\n",
       "    .dataframe thead th {\n",
       "        text-align: right;\n",
       "    }\n",
       "</style>\n",
       "<table border=\"1\" class=\"dataframe\">\n",
       "  <thead>\n",
       "    <tr style=\"text-align: right;\">\n",
       "      <th></th>\n",
       "      <th>mes</th>\n",
       "      <th>Projeto1</th>\n",
       "      <th>Projeto2</th>\n",
       "      <th>Projeto3</th>\n",
       "      <th>Projeto4</th>\n",
       "      <th>Projeto5</th>\n",
       "    </tr>\n",
       "    <tr>\n",
       "      <th>ano</th>\n",
       "      <th></th>\n",
       "      <th></th>\n",
       "      <th></th>\n",
       "      <th></th>\n",
       "      <th></th>\n",
       "      <th></th>\n",
       "    </tr>\n",
       "  </thead>\n",
       "  <tbody>\n",
       "    <tr>\n",
       "      <th>2021</th>\n",
       "      <td>78</td>\n",
       "      <td>305500</td>\n",
       "      <td>425230</td>\n",
       "      <td>656600</td>\n",
       "      <td>377500</td>\n",
       "      <td>330677</td>\n",
       "    </tr>\n",
       "    <tr>\n",
       "      <th>2022</th>\n",
       "      <td>78</td>\n",
       "      <td>330083</td>\n",
       "      <td>457698</td>\n",
       "      <td>708030</td>\n",
       "      <td>404890</td>\n",
       "      <td>354970</td>\n",
       "    </tr>\n",
       "  </tbody>\n",
       "</table>\n",
       "</div>"
      ],
      "text/plain": [
       "      mes  Projeto1  Projeto2  Projeto3  Projeto4  Projeto5\n",
       "ano                                                        \n",
       "2021   78    305500    425230    656600    377500    330677\n",
       "2022   78    330083    457698    708030    404890    354970"
      ]
     },
     "execution_count": 16,
     "metadata": {},
     "output_type": "execute_result"
    }
   ],
   "source": [
    "#| label: tbl-soma\n",
    "#| tbl-cap: \"Dados das 5 alternativas de investimento agrupadas por ano\"\n",
    "# soma dos valores de cada projeto agrupado por ano\n",
    "df.groupby('ano').sum()"
   ]
  },
  {
   "cell_type": "markdown",
   "id": "11347c2c-ec6d-493b-9a8e-ea218227f07e",
   "metadata": {},
   "source": [
    "Gráfico de dispersão dos dados do Projeto1 e Projeto2 na @fig-dispersao"
   ]
  },
  {
   "cell_type": "code",
   "execution_count": 8,
   "id": "5ce9c2ce-bd75-47a9-83d1-ee3c424955d8",
   "metadata": {},
   "outputs": [
    {
     "data": {
      "image/png": "[encoded data removed]",
      "text/plain": [
       "<Figure size 640x480 with 1 Axes>"
      ]
     },
     "metadata": {},
     "output_type": "display_data"
    }
   ],
   "source": [
    "#| label: fig-dispersao\n",
    "#| fig-cap: \"Gráfico de dispersão dos dados do Projeto1 e Projeto2\"\n",
    "\n",
    "# gráfico de dispersão cruzando os dados do Projeto1 e Projeto2\n",
    "import matplotlib.pyplot as plt\n",
    "df.plot(kind = 'scatter', x = 'Projeto1', y = 'Projeto2')\n",
    "plt.show()"
   ]
  },
  {
   "cell_type": "code",
   "execution_count": 21,
   "id": "8eaaf706-85bc-4125-87ba-22ce8855197f",
   "metadata": {},
   "outputs": [
    {
     "data": {
      "text/plain": [
       "<Axes: ylabel='Frequency'>"
      ]
     },
     "execution_count": 21,
     "metadata": {},
     "output_type": "execute_result"
    },
    {
     "data": {
      "image/png": "[encoded data removed]",
      "text/plain": [
       "<Figure size 640x480 with 1 Axes>"
      ]
     },
     "metadata": {},
     "output_type": "display_data"
    }
   ],
   "source": [
    "#| label: fig-hist\n",
    "#| fig-cap: \"Gráfico de histograma com os dados do Projeto 1 e Projeto4\"\n",
    "\n",
    "# Dica: Ao criar dois histograma em sequência, o python agrupa em apenas um desenho\n",
    "df[\"Projeto1\"].plot(kind = 'hist')\n",
    "df[\"Projeto4\"].plot(kind = 'hist')"
   ]
  },
  {
   "cell_type": "markdown",
   "id": "5fb5aef7-3082-401f-88f7-9f5001d531d9",
   "metadata": {},
   "source": [
    "### Taxas de Juros - IPEADATA"
   ]
  },
  {
   "cell_type": "code",
   "execution_count": 22,
   "id": "ee28e6e7-646b-4574-92ab-45bad102bc64",
   "metadata": {},
   "outputs": [
    {
     "data": {
      "text/html": [
       "<div>\n",
       "<style scoped>\n",
       "    .dataframe tbody tr th:only-of-type {\n",
       "        vertical-align: middle;\n",
       "    }\n",
       "\n",
       "    .dataframe tbody tr th {\n",
       "        vertical-align: top;\n",
       "    }\n",
       "\n",
       "    .dataframe thead th {\n",
       "        text-align: right;\n",
       "    }\n",
       "</style>\n",
       "<table border=\"1\" class=\"dataframe\">\n",
       "  <thead>\n",
       "    <tr style=\"text-align: right;\">\n",
       "      <th></th>\n",
       "      <th>CODE</th>\n",
       "      <th>NAME</th>\n",
       "    </tr>\n",
       "  </thead>\n",
       "  <tbody>\n",
       "    <tr>\n",
       "      <th>936</th>\n",
       "      <td>BM12_TFPPNCN12</td>\n",
       "      <td>Meio de pagamento ampliado -  M4 - títulos fed...</td>\n",
       "    </tr>\n",
       "    <tr>\n",
       "      <th>937</th>\n",
       "      <td>BM12_TFPPNCNY12</td>\n",
       "      <td>Meio de pagamento ampliado - M4 - títulos fede...</td>\n",
       "    </tr>\n",
       "    <tr>\n",
       "      <th>3079</th>\n",
       "      <td>BM12_TPFOVER12</td>\n",
       "      <td>Títulos - federais - indexados à Over / Selic ...</td>\n",
       "    </tr>\n",
       "    <tr>\n",
       "      <th>3080</th>\n",
       "      <td>BM12_TPFOVERMA12</td>\n",
       "      <td>Dívida mobiliária federal - participação index...</td>\n",
       "    </tr>\n",
       "    <tr>\n",
       "      <th>7542</th>\n",
       "      <td>PAN_TJOVER</td>\n",
       "      <td>Taxa de juros nominal - Over / Selic</td>\n",
       "    </tr>\n",
       "    <tr>\n",
       "      <th>7563</th>\n",
       "      <td>PAN12_TJOVER12</td>\n",
       "      <td>Taxa de juros nominal - Over / Selic</td>\n",
       "    </tr>\n",
       "    <tr>\n",
       "      <th>7588</th>\n",
       "      <td>PAN4_TJOVER4</td>\n",
       "      <td>Taxa de juros nominal - Over / Selic</td>\n",
       "    </tr>\n",
       "    <tr>\n",
       "      <th>8603</th>\n",
       "      <td>BM12_TJOVER12</td>\n",
       "      <td>Taxa de juros - Over / Selic - acumulada no mês</td>\n",
       "    </tr>\n",
       "    <tr>\n",
       "      <th>8608</th>\n",
       "      <td>BM366_TJOVER366</td>\n",
       "      <td>Taxa de juros - Selic - fixada pelo Copom</td>\n",
       "    </tr>\n",
       "    <tr>\n",
       "      <th>8622</th>\n",
       "      <td>GM366_TJOVER366</td>\n",
       "      <td>Taxa de juros - Over / Selic</td>\n",
       "    </tr>\n",
       "    <tr>\n",
       "      <th>8623</th>\n",
       "      <td>GM366_TJOVERV366</td>\n",
       "      <td>Taxa de juros - Over / Selic - volatilidade</td>\n",
       "    </tr>\n",
       "  </tbody>\n",
       "</table>\n",
       "</div>"
      ],
      "text/plain": [
       "                  CODE                                               NAME\n",
       "936     BM12_TFPPNCN12  Meio de pagamento ampliado -  M4 - títulos fed...\n",
       "937    BM12_TFPPNCNY12  Meio de pagamento ampliado - M4 - títulos fede...\n",
       "3079    BM12_TPFOVER12  Títulos - federais - indexados à Over / Selic ...\n",
       "3080  BM12_TPFOVERMA12  Dívida mobiliária federal - participação index...\n",
       "7542        PAN_TJOVER               Taxa de juros nominal - Over / Selic\n",
       "7563    PAN12_TJOVER12               Taxa de juros nominal - Over / Selic\n",
       "7588      PAN4_TJOVER4               Taxa de juros nominal - Over / Selic\n",
       "8603     BM12_TJOVER12    Taxa de juros - Over / Selic - acumulada no mês\n",
       "8608   BM366_TJOVER366          Taxa de juros - Selic - fixada pelo Copom\n",
       "8622   GM366_TJOVER366                       Taxa de juros - Over / Selic\n",
       "8623  GM366_TJOVERV366        Taxa de juros - Over / Selic - volatilidade"
      ]
     },
     "execution_count": 22,
     "metadata": {},
     "output_type": "execute_result"
    }
   ],
   "source": [
    "#| label: tbl-indicadores\n",
    "#| tbl-cap: \"Relação de indicadores relacionados a taxa de juros Selic\"\n",
    "\n",
    "import ipeadatapy as ip\n",
    "\n",
    "# busca na base do IPEADATA indicadores relacionados a taxa de juros Selic\n",
    "ip.list_series('Selic')"
   ]
  },
  {
   "cell_type": "code",
   "execution_count": 24,
   "id": "a8bab213-9e89-4da1-83e4-2cc6928cdfcb",
   "metadata": {},
   "outputs": [
    {
     "data": {
      "text/html": [
       "<div>\n",
       "<style scoped>\n",
       "    .dataframe tbody tr th:only-of-type {\n",
       "        vertical-align: middle;\n",
       "    }\n",
       "\n",
       "    .dataframe tbody tr th {\n",
       "        vertical-align: top;\n",
       "    }\n",
       "\n",
       "    .dataframe thead th {\n",
       "        text-align: right;\n",
       "    }\n",
       "</style>\n",
       "<table border=\"1\" class=\"dataframe\">\n",
       "  <thead>\n",
       "    <tr style=\"text-align: right;\">\n",
       "      <th></th>\n",
       "      <th>CODE</th>\n",
       "      <th>RAW DATE</th>\n",
       "      <th>DAY</th>\n",
       "      <th>MONTH</th>\n",
       "      <th>YEAR</th>\n",
       "      <th>VALUE ((% a.m.))</th>\n",
       "    </tr>\n",
       "    <tr>\n",
       "      <th>DATE</th>\n",
       "      <th></th>\n",
       "      <th></th>\n",
       "      <th></th>\n",
       "      <th></th>\n",
       "      <th></th>\n",
       "      <th></th>\n",
       "    </tr>\n",
       "  </thead>\n",
       "  <tbody>\n",
       "    <tr>\n",
       "      <th>2021-01-01</th>\n",
       "      <td>BM12_TJOVER12</td>\n",
       "      <td>2021-01-01T00:00:00-03:00</td>\n",
       "      <td>1</td>\n",
       "      <td>1</td>\n",
       "      <td>2021</td>\n",
       "      <td>0.15</td>\n",
       "    </tr>\n",
       "    <tr>\n",
       "      <th>2021-02-01</th>\n",
       "      <td>BM12_TJOVER12</td>\n",
       "      <td>2021-02-01T00:00:00-03:00</td>\n",
       "      <td>1</td>\n",
       "      <td>2</td>\n",
       "      <td>2021</td>\n",
       "      <td>0.13</td>\n",
       "    </tr>\n",
       "    <tr>\n",
       "      <th>2021-03-01</th>\n",
       "      <td>BM12_TJOVER12</td>\n",
       "      <td>2021-03-01T00:00:00-03:00</td>\n",
       "      <td>1</td>\n",
       "      <td>3</td>\n",
       "      <td>2021</td>\n",
       "      <td>0.20</td>\n",
       "    </tr>\n",
       "    <tr>\n",
       "      <th>2021-04-01</th>\n",
       "      <td>BM12_TJOVER12</td>\n",
       "      <td>2021-04-01T00:00:00-03:00</td>\n",
       "      <td>1</td>\n",
       "      <td>4</td>\n",
       "      <td>2021</td>\n",
       "      <td>0.21</td>\n",
       "    </tr>\n",
       "    <tr>\n",
       "      <th>2021-05-01</th>\n",
       "      <td>BM12_TJOVER12</td>\n",
       "      <td>2021-05-01T00:00:00-03:00</td>\n",
       "      <td>1</td>\n",
       "      <td>5</td>\n",
       "      <td>2021</td>\n",
       "      <td>0.27</td>\n",
       "    </tr>\n",
       "    <tr>\n",
       "      <th>2021-06-01</th>\n",
       "      <td>BM12_TJOVER12</td>\n",
       "      <td>2021-06-01T00:00:00-03:00</td>\n",
       "      <td>1</td>\n",
       "      <td>6</td>\n",
       "      <td>2021</td>\n",
       "      <td>0.31</td>\n",
       "    </tr>\n",
       "    <tr>\n",
       "      <th>2021-07-01</th>\n",
       "      <td>BM12_TJOVER12</td>\n",
       "      <td>2021-07-01T00:00:00-03:00</td>\n",
       "      <td>1</td>\n",
       "      <td>7</td>\n",
       "      <td>2021</td>\n",
       "      <td>0.36</td>\n",
       "    </tr>\n",
       "    <tr>\n",
       "      <th>2021-08-01</th>\n",
       "      <td>BM12_TJOVER12</td>\n",
       "      <td>2021-08-01T00:00:00-03:00</td>\n",
       "      <td>1</td>\n",
       "      <td>8</td>\n",
       "      <td>2021</td>\n",
       "      <td>0.43</td>\n",
       "    </tr>\n",
       "    <tr>\n",
       "      <th>2021-09-01</th>\n",
       "      <td>BM12_TJOVER12</td>\n",
       "      <td>2021-09-01T00:00:00-03:00</td>\n",
       "      <td>1</td>\n",
       "      <td>9</td>\n",
       "      <td>2021</td>\n",
       "      <td>0.44</td>\n",
       "    </tr>\n",
       "    <tr>\n",
       "      <th>2021-10-01</th>\n",
       "      <td>BM12_TJOVER12</td>\n",
       "      <td>2021-10-01T00:00:00-03:00</td>\n",
       "      <td>1</td>\n",
       "      <td>10</td>\n",
       "      <td>2021</td>\n",
       "      <td>0.49</td>\n",
       "    </tr>\n",
       "    <tr>\n",
       "      <th>2021-11-01</th>\n",
       "      <td>BM12_TJOVER12</td>\n",
       "      <td>2021-11-01T00:00:00-03:00</td>\n",
       "      <td>1</td>\n",
       "      <td>11</td>\n",
       "      <td>2021</td>\n",
       "      <td>0.59</td>\n",
       "    </tr>\n",
       "    <tr>\n",
       "      <th>2021-12-01</th>\n",
       "      <td>BM12_TJOVER12</td>\n",
       "      <td>2021-12-01T00:00:00-03:00</td>\n",
       "      <td>1</td>\n",
       "      <td>12</td>\n",
       "      <td>2021</td>\n",
       "      <td>0.77</td>\n",
       "    </tr>\n",
       "    <tr>\n",
       "      <th>2022-01-01</th>\n",
       "      <td>BM12_TJOVER12</td>\n",
       "      <td>2022-01-01T00:00:00-03:00</td>\n",
       "      <td>1</td>\n",
       "      <td>1</td>\n",
       "      <td>2022</td>\n",
       "      <td>0.73</td>\n",
       "    </tr>\n",
       "    <tr>\n",
       "      <th>2022-02-01</th>\n",
       "      <td>BM12_TJOVER12</td>\n",
       "      <td>2022-02-01T00:00:00-03:00</td>\n",
       "      <td>1</td>\n",
       "      <td>2</td>\n",
       "      <td>2022</td>\n",
       "      <td>0.76</td>\n",
       "    </tr>\n",
       "    <tr>\n",
       "      <th>2022-03-01</th>\n",
       "      <td>BM12_TJOVER12</td>\n",
       "      <td>2022-03-01T00:00:00-03:00</td>\n",
       "      <td>1</td>\n",
       "      <td>3</td>\n",
       "      <td>2022</td>\n",
       "      <td>0.93</td>\n",
       "    </tr>\n",
       "    <tr>\n",
       "      <th>2022-04-01</th>\n",
       "      <td>BM12_TJOVER12</td>\n",
       "      <td>2022-04-01T00:00:00-03:00</td>\n",
       "      <td>1</td>\n",
       "      <td>4</td>\n",
       "      <td>2022</td>\n",
       "      <td>0.83</td>\n",
       "    </tr>\n",
       "    <tr>\n",
       "      <th>2022-05-01</th>\n",
       "      <td>BM12_TJOVER12</td>\n",
       "      <td>2022-05-01T00:00:00-03:00</td>\n",
       "      <td>1</td>\n",
       "      <td>5</td>\n",
       "      <td>2022</td>\n",
       "      <td>1.03</td>\n",
       "    </tr>\n",
       "    <tr>\n",
       "      <th>2022-06-01</th>\n",
       "      <td>BM12_TJOVER12</td>\n",
       "      <td>2022-06-01T00:00:00-03:00</td>\n",
       "      <td>1</td>\n",
       "      <td>6</td>\n",
       "      <td>2022</td>\n",
       "      <td>1.02</td>\n",
       "    </tr>\n",
       "    <tr>\n",
       "      <th>2022-07-01</th>\n",
       "      <td>BM12_TJOVER12</td>\n",
       "      <td>2022-07-01T00:00:00-03:00</td>\n",
       "      <td>1</td>\n",
       "      <td>7</td>\n",
       "      <td>2022</td>\n",
       "      <td>1.03</td>\n",
       "    </tr>\n",
       "    <tr>\n",
       "      <th>2022-08-01</th>\n",
       "      <td>BM12_TJOVER12</td>\n",
       "      <td>2022-08-01T00:00:00-03:00</td>\n",
       "      <td>1</td>\n",
       "      <td>8</td>\n",
       "      <td>2022</td>\n",
       "      <td>1.17</td>\n",
       "    </tr>\n",
       "    <tr>\n",
       "      <th>2022-09-01</th>\n",
       "      <td>BM12_TJOVER12</td>\n",
       "      <td>2022-09-01T00:00:00-03:00</td>\n",
       "      <td>1</td>\n",
       "      <td>9</td>\n",
       "      <td>2022</td>\n",
       "      <td>1.07</td>\n",
       "    </tr>\n",
       "    <tr>\n",
       "      <th>2022-10-01</th>\n",
       "      <td>BM12_TJOVER12</td>\n",
       "      <td>2022-10-01T00:00:00-03:00</td>\n",
       "      <td>1</td>\n",
       "      <td>10</td>\n",
       "      <td>2022</td>\n",
       "      <td>1.02</td>\n",
       "    </tr>\n",
       "    <tr>\n",
       "      <th>2022-11-01</th>\n",
       "      <td>BM12_TJOVER12</td>\n",
       "      <td>2022-11-01T00:00:00-03:00</td>\n",
       "      <td>1</td>\n",
       "      <td>11</td>\n",
       "      <td>2022</td>\n",
       "      <td>1.02</td>\n",
       "    </tr>\n",
       "    <tr>\n",
       "      <th>2022-12-01</th>\n",
       "      <td>BM12_TJOVER12</td>\n",
       "      <td>2022-12-01T00:00:00-03:00</td>\n",
       "      <td>1</td>\n",
       "      <td>12</td>\n",
       "      <td>2022</td>\n",
       "      <td>1.12</td>\n",
       "    </tr>\n",
       "  </tbody>\n",
       "</table>\n",
       "</div>"
      ],
      "text/plain": [
       "                     CODE                   RAW DATE  DAY  MONTH  YEAR  \\\n",
       "DATE                                                                     \n",
       "2021-01-01  BM12_TJOVER12  2021-01-01T00:00:00-03:00    1      1  2021   \n",
       "2021-02-01  BM12_TJOVER12  2021-02-01T00:00:00-03:00    1      2  2021   \n",
       "2021-03-01  BM12_TJOVER12  2021-03-01T00:00:00-03:00    1      3  2021   \n",
       "2021-04-01  BM12_TJOVER12  2021-04-01T00:00:00-03:00    1      4  2021   \n",
       "2021-05-01  BM12_TJOVER12  2021-05-01T00:00:00-03:00    1      5  2021   \n",
       "2021-06-01  BM12_TJOVER12  2021-06-01T00:00:00-03:00    1      6  2021   \n",
       "2021-07-01  BM12_TJOVER12  2021-07-01T00:00:00-03:00    1      7  2021   \n",
       "2021-08-01  BM12_TJOVER12  2021-08-01T00:00:00-03:00    1      8  2021   \n",
       "2021-09-01  BM12_TJOVER12  2021-09-01T00:00:00-03:00    1      9  2021   \n",
       "2021-10-01  BM12_TJOVER12  2021-10-01T00:00:00-03:00    1     10  2021   \n",
       "2021-11-01  BM12_TJOVER12  2021-11-01T00:00:00-03:00    1     11  2021   \n",
       "2021-12-01  BM12_TJOVER12  2021-12-01T00:00:00-03:00    1     12  2021   \n",
       "2022-01-01  BM12_TJOVER12  2022-01-01T00:00:00-03:00    1      1  2022   \n",
       "2022-02-01  BM12_TJOVER12  2022-02-01T00:00:00-03:00    1      2  2022   \n",
       "2022-03-01  BM12_TJOVER12  2022-03-01T00:00:00-03:00    1      3  2022   \n",
       "2022-04-01  BM12_TJOVER12  2022-04-01T00:00:00-03:00    1      4  2022   \n",
       "2022-05-01  BM12_TJOVER12  2022-05-01T00:00:00-03:00    1      5  2022   \n",
       "2022-06-01  BM12_TJOVER12  2022-06-01T00:00:00-03:00    1      6  2022   \n",
       "2022-07-01  BM12_TJOVER12  2022-07-01T00:00:00-03:00    1      7  2022   \n",
       "2022-08-01  BM12_TJOVER12  2022-08-01T00:00:00-03:00    1      8  2022   \n",
       "2022-09-01  BM12_TJOVER12  2022-09-01T00:00:00-03:00    1      9  2022   \n",
       "2022-10-01  BM12_TJOVER12  2022-10-01T00:00:00-03:00    1     10  2022   \n",
       "2022-11-01  BM12_TJOVER12  2022-11-01T00:00:00-03:00    1     11  2022   \n",
       "2022-12-01  BM12_TJOVER12  2022-12-01T00:00:00-03:00    1     12  2022   \n",
       "\n",
       "            VALUE ((% a.m.))  \n",
       "DATE                          \n",
       "2021-01-01              0.15  \n",
       "2021-02-01              0.13  \n",
       "2021-03-01              0.20  \n",
       "2021-04-01              0.21  \n",
       "2021-05-01              0.27  \n",
       "2021-06-01              0.31  \n",
       "2021-07-01              0.36  \n",
       "2021-08-01              0.43  \n",
       "2021-09-01              0.44  \n",
       "2021-10-01              0.49  \n",
       "2021-11-01              0.59  \n",
       "2021-12-01              0.77  \n",
       "2022-01-01              0.73  \n",
       "2022-02-01              0.76  \n",
       "2022-03-01              0.93  \n",
       "2022-04-01              0.83  \n",
       "2022-05-01              1.03  \n",
       "2022-06-01              1.02  \n",
       "2022-07-01              1.03  \n",
       "2022-08-01              1.17  \n",
       "2022-09-01              1.07  \n",
       "2022-10-01              1.02  \n",
       "2022-11-01              1.02  \n",
       "2022-12-01              1.12  "
      ]
     },
     "execution_count": 24,
     "metadata": {},
     "output_type": "execute_result"
    }
   ],
   "source": [
    "#| label: tbl-selic\n",
    "#| tbl-cap: \"Apresentação dos valores do indicador 'Taxa de juros - Over / Selic - acumulada no mês' dos anos de 2021 e 2022\"\n",
    "selic = ip.timeseries('BM12_TJOVER12', yearGreaterThan=2020, yearSmallerThan=2023)\n",
    "selic"
   ]
  },
  {
   "cell_type": "markdown",
   "id": "db3491ca-93f9-40f4-8154-76df769ae0a8",
   "metadata": {},
   "source": [
    "Geração de dois gráficos de linha, meses e valores das taxas, um para o ano de 2021 (@fig-taxa1) e outro para o ano de 2022 (@fig-taxa2)"
   ]
  },
  {
   "cell_type": "code",
   "execution_count": 29,
   "id": "88a10c83-3039-4a5a-80a6-20b026cadef7",
   "metadata": {},
   "outputs": [
    {
     "data": {
      "text/plain": [
       "<Axes: xlabel='MONTH'>"
      ]
     },
     "execution_count": 29,
     "metadata": {},
     "output_type": "execute_result"
    },
    {
     "data": {
      "image/png": "[encoded data removed]",
      "text/plain": [
       "<Figure size 640x480 with 1 Axes>"
      ]
     },
     "metadata": {},
     "output_type": "display_data"
    }
   ],
   "source": [
    "#| label: fig-taxa1\n",
    "#| fig-cap: \"Taxa de juros em 2021\"\n",
    "\n",
    "ip.timeseries('BM12_TJOVER12', year=2021).plot(\"MONTH\", \"VALUE ((% a.m.))\")"
   ]
  },
  {
   "cell_type": "code",
   "execution_count": null,
   "id": "e40c006e-0608-4b65-a663-849cd5ed3b2b",
   "metadata": {},
   "outputs": [
    {
     "data": {
      "text/plain": [
       "<Axes: xlabel='MONTH'>"
      ]
     },
     "execution_count": 27,
     "metadata": {},
     "output_type": "execute_result"
    },
    {
     "data": {
      "image/png": "[encoded data removed]",
      "text/plain": [
       "<Figure size 640x480 with 1 Axes>"
      ]
     },
     "metadata": {},
     "output_type": "display_data"
    }
   ],
   "source": [
    "#| label: fig-taxa2\n",
    "#| fig-cap: \"Taxa de juros em 2022\"\n",
    "\n",
    "ip.timeseries('BM12_TJOVER12', year=2022).plot(\"MONTH\", \"VALUE ((% a.m.))\")"
   ]
  },
  {
   "cell_type": "markdown",
   "id": "6c1f71c5-6d68-496c-b5a7-4aebeb682945",
   "metadata": {},
   "source": [
    "### Projetos + Taxas de Juros"
   ]
  },
  {
   "cell_type": "code",
   "execution_count": 9,
   "id": "47bf51fe-f0f1-4f5f-99d8-1cca73579119",
   "metadata": {},
   "outputs": [
    {
     "name": "stdout",
     "output_type": "stream",
     "text": [
      "[27660, 24999, 27104, 27487, 30394, 30469, 30112, 29908, 25878, 26110, 29556, 21000, 33192, 27999, 26833, 23914, 30485, 33516, 39146, 29878, 25878, 25588, 32837, 25704]\n",
      "\n",
      "[0.15, 0.13, 0.2, 0.21, 0.27, 0.31, 0.36, 0.43, 0.44, 0.49, 0.59, 0.77, 0.73, 0.76, 0.93, 0.83, 1.03, 1.02, 1.03, 1.17, 1.07, 1.02, 1.02, 1.12]\n"
     ]
    }
   ],
   "source": [
    "# Criação de duas variáveis do tipo lista com a série de dados do Projeto5 e os valores da taxa Selic\n",
    "ListaP5 = list(df['Projeto5'])\n",
    "ListaSelic = list(selic['VALUE ((% a.m.))'])\n",
    "print(ListaP5)\n",
    "print()\n",
    "print(ListaSelic)"
   ]
  },
  {
   "cell_type": "markdown",
   "id": "b6320500-4fbe-49dd-a3b8-5ca63df74133",
   "metadata": {},
   "source": [
    "Cálculo do VPL (Valor Presente Líquido) do Projeto5, utilizando a taxa Selic mensal:\n",
    "- VP(Valor Presente) = ReceitaMês - ( ReceitaMês * (SelicMês/100) * nºperíodos )\n",
    "- VP total = soma do VP de cada mês\n",
    "- VPL(Valor Presente Líquido) = VP total - Investimento Inicial\n",
    "\n",
    "Obs: Para o Projeto5, o investimento inicial é de 160000\n"
   ]
  },
  {
   "cell_type": "code",
   "execution_count": 10,
   "id": "bbf09b8a-013c-4056-8376-543c16723f31",
   "metadata": {},
   "outputs": [
    {
     "name": "stdout",
     "output_type": "stream",
     "text": [
      "VPL do Projeto 5: 455508.05\n"
     ]
    }
   ],
   "source": [
    "VP = 0\n",
    "for i in range(0,24):\n",
    "    VP = VP + (ListaP5[i] - (ListaP5[i] * (ListaSelic[i]/100) * i))\n",
    "print('VPL do Projeto 5:', round(VP - 160000,2))"
   ]
  }
 ],
 "metadata": {
  "kernelspec": {
   "display_name": "Python 3 (ipykernel)",
   "language": "python",
   "name": "python3"
  },
  "language_info": {
   "codemirror_mode": {
    "name": "ipython",
    "version": 3
   },
   "file_extension": ".py",
   "mimetype": "text/x-python",
   "name": "python",
   "nbconvert_exporter": "python",
   "pygments_lexer": "ipython3",
   "version": "3.9.13"
  }
 },
 "nbformat": 4,
 "nbformat_minor": 5
}
